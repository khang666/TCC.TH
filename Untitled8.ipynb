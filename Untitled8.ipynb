{
  "nbformat": 4,
  "nbformat_minor": 0,
  "metadata": {
    "colab": {
      "name": "Untitled8.ipynb",
      "provenance": [],
      "authorship_tag": "ABX9TyOz+nmYb5yAJAMOttLLfpy/",
      "include_colab_link": true
    },
    "kernelspec": {
      "name": "python3",
      "display_name": "Python 3"
    },
    "language_info": {
      "name": "python"
    }
  },
  "cells": [
    {
      "cell_type": "markdown",
      "metadata": {
        "id": "view-in-github",
        "colab_type": "text"
      },
      "source": [
        "<a href=\"https://colab.research.google.com/github/khang666/TCC.TH/blob/main/Untitled8.ipynb\" target=\"_parent\"><img src=\"https://colab.research.google.com/assets/colab-badge.svg\" alt=\"Open In Colab\"/></a>"
      ]
    },
    {
      "cell_type": "markdown",
      "source": [
        "3.5"
      ],
      "metadata": {
        "id": "WHYBUrwJbsdk"
      }
    },
    {
      "cell_type": "code",
      "execution_count": 1,
      "metadata": {
        "colab": {
          "base_uri": "https://localhost:8080/",
          "height": 37
        },
        "id": "xZZ67ROzZ8xH",
        "outputId": "b421cd7d-16cd-46ce-f460-0199fd151720"
      },
      "outputs": [
        {
          "output_type": "execute_result",
          "data": {
            "text/plain": [
              "oo"
            ],
            "text/latex": "$\\displaystyle \\infty$"
          },
          "metadata": {},
          "execution_count": 1
        }
      ],
      "source": [
        "from sympy import Limit,Symbol, S\n",
        "x = Symbol('x')\n",
        "Limit(1+x+x**2+x**3/1+x,x,S.Infinity)\n",
        "gioihan = Limit(1+x+x**2+x**3/1+x,x,S.Infinity)\n",
        "gioihan.doit()"
      ]
    },
    {
      "cell_type": "markdown",
      "source": [
        "2.3"
      ],
      "metadata": {
        "id": "su10TcSAd05Y"
      }
    },
    {
      "cell_type": "code",
      "source": [
        "from sympy import Derivative,Symbol\n",
        "x = Symbol ('x')\n",
        "f = (x**2+3*x-1)/(x+1)\n",
        "Derivative(f, x).doit()"
      ],
      "metadata": {
        "colab": {
          "base_uri": "https://localhost:8080/",
          "height": 61
        },
        "id": "xxba7ty8d1Bn",
        "outputId": "38f3f346-cf77-45ed-ca5f-7208b5e9c133"
      },
      "execution_count": 4,
      "outputs": [
        {
          "output_type": "execute_result",
          "data": {
            "text/plain": [
              "(2*x + 3)/(x + 1) - (x**2 + 3*x - 1)/(x + 1)**2"
            ],
            "text/latex": "$\\displaystyle \\frac{2 x + 3}{x + 1} - \\frac{x^{2} + 3 x - 1}{\\left(x + 1\\right)^{2}}$"
          },
          "metadata": {},
          "execution_count": 4
        }
      ]
    },
    {
      "cell_type": "markdown",
      "source": [
        "1.5"
      ],
      "metadata": {
        "id": "7JzqekYUe0SU"
      }
    },
    {
      "cell_type": "code",
      "source": [
        "from sympy import Integral, Symbol\n",
        "x = Symbol('x')\n",
        "Integral(2*x+1/x*(x+1), x).doit()"
      ],
      "metadata": {
        "id": "X-f9H9hQe10E"
      },
      "execution_count": null,
      "outputs": []
    }
  ]
}