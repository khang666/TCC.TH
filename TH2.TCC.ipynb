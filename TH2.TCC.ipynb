{
  "nbformat": 4,
  "nbformat_minor": 0,
  "metadata": {
    "colab": {
      "name": "Untitled0.ipynb",
      "provenance": [],
      "authorship_tag": "ABX9TyMV2z71WN+WFXaGnXgFiaQ7",
      "include_colab_link": true
    },
    "kernelspec": {
      "name": "python3",
      "display_name": "Python 3"
    },
    "language_info": {
      "name": "python"
    }
  },
  "cells": [
    {
      "cell_type": "markdown",
      "metadata": {
        "id": "view-in-github",
        "colab_type": "text"
      },
      "source": [
        "<a href=\"https://colab.research.google.com/github/khang666/TCC.TH/blob/main/TH2.TCC.ipynb\" target=\"_parent\"><img src=\"https://colab.research.google.com/assets/colab-badge.svg\" alt=\"Open In Colab\"/></a>"
      ]
    },
    {
      "cell_type": "markdown",
      "source": [
        "th1"
      ],
      "metadata": {
        "id": "gShGS3i8aI6W"
      }
    },
    {
      "cell_type": "code",
      "execution_count": null,
      "metadata": {
        "id": "Ugg-7io8VogO"
      },
      "outputs": [],
      "source": [
        "chuoi = \" a*b + 2*c\"\n",
        "a = 2\n",
        "b = 5\n",
        "c= 10\n",
        "eval(chuoi)"
      ]
    },
    {
      "cell_type": "markdown",
      "source": [
        "th2\n",
        "a"
      ],
      "metadata": {
        "id": "hA6EuUlMaL5m"
      }
    },
    {
      "cell_type": "code",
      "source": [
        "from sympy import Symbol\n",
        "x = Symbol ('x ')\n",
        "y = Symbol ('y')\n",
        "bieuthuc = x +y \n",
        "theso = bieuthuc.subs({x: 5, y: 10 })\n",
        "theso"
      ],
      "metadata": {
        "id": "4ssLksuqaIVv"
      },
      "execution_count": null,
      "outputs": []
    },
    {
      "cell_type": "markdown",
      "source": [
        "b"
      ],
      "metadata": {
        "id": "ZFLBqevKaT9i"
      }
    },
    {
      "cell_type": "code",
      "source": [
        "u = Symbol ('u')\n",
        "v = Symbol (' v')\n",
        "bieuthuc_uv = bieuthuc.subs({x:u,y:v})\n",
        "bieuthuc_uv\n"
      ],
      "metadata": {
        "id": "DW77kahKaVLZ"
      },
      "execution_count": null,
      "outputs": []
    },
    {
      "cell_type": "markdown",
      "source": [
        "c"
      ],
      "metadata": {
        "id": "w9RJukZpaX9y"
      }
    },
    {
      "cell_type": "code",
      "source": [
        "tinhtoan=bieuthuc.subs({x: 2*u*v, y: u*v**2})\n",
        "tinhtoan"
      ],
      "metadata": {
        "id": "-ZB0jLCJaaKS"
      },
      "execution_count": null,
      "outputs": []
    },
    {
      "cell_type": "code",
      "source": [
        "tinhtoan.factor()"
      ],
      "metadata": {
        "id": "cN6xb0d9aayT"
      },
      "execution_count": null,
      "outputs": []
    },
    {
      "cell_type": "markdown",
      "source": [
        "d"
      ],
      "metadata": {
        "id": "I2NUj8Saadgi"
      }
    },
    {
      "cell_type": "code",
      "source": [
        "from sympy import Symbol \n",
        "x = Symbol ('x')\n",
        "y = Symbol ('y')\n",
        "bieuthuc= x + y\n",
        "bieuthuc1= x**2 + y**2 \n",
        "u = Symbol ('u')\n",
        "v = Symbol('v')\n",
        "a = Symbol ('a')\n",
        "from sympy import sin, cos\n",
        "bieuthuc_uv = bieuthuc1.subs({x: a*sin(u), y: a*cos(u)})\n",
        "bieuthuc_uv"
      ],
      "metadata": {
        "id": "xn9zc7_caeUm"
      },
      "execution_count": null,
      "outputs": []
    },
    {
      "cell_type": "code",
      "source": [
        "bieuthuc_uv.simplify()"
      ],
      "metadata": {
        "id": "sRA5e4RRafzi"
      },
      "execution_count": null,
      "outputs": []
    },
    {
      "cell_type": "markdown",
      "source": [
        "th3"
      ],
      "metadata": {
        "id": "GjLfxTllah-u"
      }
    },
    {
      "cell_type": "code",
      "source": [
        "danhsach  = [ 1,2,3,4,5]\n",
        "danhsach[ 1 ]"
      ],
      "metadata": {
        "id": "eOZQd-KQajZe"
      },
      "execution_count": null,
      "outputs": []
    },
    {
      "cell_type": "code",
      "source": [
        "danhsach.append(10 )\n",
        "danhsach"
      ],
      "metadata": {
        "id": "CbDHrYgsamae"
      },
      "execution_count": null,
      "outputs": []
    },
    {
      "cell_type": "code",
      "source": [
        "danhsach.insert(0,15 )\n",
        "danhsach"
      ],
      "metadata": {
        "id": "eUWWT1Qpan5-"
      },
      "execution_count": null,
      "outputs": []
    },
    {
      "cell_type": "code",
      "source": [
        "danhsach.pop(0 )\n",
        "danhsach"
      ],
      "metadata": {
        "id": "GR9JcjdDapY_"
      },
      "execution_count": null,
      "outputs": []
    },
    {
      "cell_type": "markdown",
      "source": [
        "th4"
      ],
      "metadata": {
        "id": "MxlSS2haartW"
      }
    },
    {
      "cell_type": "code",
      "source": [
        "danhsach=[5,10,15,11,2020]\n",
        "for ch in danhsach:\n",
        "  print(ch )"
      ],
      "metadata": {
        "id": "v6DUsO82ashW"
      },
      "execution_count": null,
      "outputs": []
    },
    {
      "cell_type": "code",
      "source": [
        "for chiso, giatri in enumerate ('danhsach'):\n",
        "  print(chiso,':', giatri )"
      ],
      "metadata": {
        "id": "Kd7soYUoavL-"
      },
      "execution_count": null,
      "outputs": []
    },
    {
      "cell_type": "markdown",
      "source": [
        "th5"
      ],
      "metadata": {
        "id": "TfnGhb9tay5u"
      }
    },
    {
      "cell_type": "code",
      "source": [
        "giatri_x = [ 2,4,6,8 ]\n",
        "giatri_y = [1, 5, 7, 9]\n",
        "from pylab import plot, show\n",
        "plot(giatri_x , giatri_y )\n",
        "show( )\n"
      ],
      "metadata": {
        "id": "g4Z9hIDla0y9"
      },
      "execution_count": null,
      "outputs": []
    },
    {
      "cell_type": "markdown",
      "source": [
        "th6"
      ],
      "metadata": {
        "id": "C3f3L_KWa2dj"
      }
    },
    {
      "cell_type": "code",
      "source": [
        "giatri_x = [ 2,4,6,8 ]\n",
        "giatri_y = [1, 5, 7, 9]\n",
        "from pylab import plot, show \n",
        "plot (giatri_x , giatri_y, marker='o')"
      ],
      "metadata": {
        "colab": {
          "base_uri": "https://localhost:8080/",
          "height": 282
        },
        "id": "7Blc9HVna3qu",
        "outputId": "37fe017e-d63f-4ae1-d75b-b3df62e35082"
      },
      "execution_count": 9,
      "outputs": [
        {
          "output_type": "execute_result",
          "data": {
            "text/plain": [
              "[<matplotlib.lines.Line2D at 0x7fe79fdfe050>]"
            ]
          },
          "metadata": {},
          "execution_count": 9
        },
        {
          "output_type": "display_data",
          "data": {
            "image/png": "[encoded data removed]",
            "text/plain": [
              "<Figure size 432x288 with 1 Axes>"
            ]
          },
          "metadata": {
            "needs_background": "light"
          }
        }
      ]
    },
    {
      "cell_type": "markdown",
      "source": [
        ""
      ],
      "metadata": {
        "id": "IWbEVvySbLtS"
      }
    },
    {
      "cell_type": "markdown",
      "source": [
        "th7"
      ],
      "metadata": {
        "id": "Z7GESYVea4Ta"
      }
    },
    {
      "cell_type": "code",
      "source": [
        "luongmua = [13.8,4.1,10.5, 50.4, 218.4, 311.7, 293.7, 269.8, 327.1, 266.7, 116.5, 48.3]\n",
        "thang= range(1,13)\n",
        "from pylab import show, plot\n",
        "plot(thang, luongmua, marker='o') \n",
        "show()"
      ],
      "metadata": {
        "id": "jL4KL_jUa9CK"
      },
      "execution_count": null,
      "outputs": []
    }
  ]
}