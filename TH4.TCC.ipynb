{
  "nbformat": 4,
  "nbformat_minor": 0,
  "metadata": {
    "colab": {
      "name": "Untitled5.ipynb",
      "provenance": [],
      "authorship_tag": "ABX9TyPXtkiqYE+/hpkW5saDg1CJ",
      "include_colab_link": true
    },
    "kernelspec": {
      "name": "python3",
      "display_name": "Python 3"
    },
    "language_info": {
      "name": "python"
    }
  },
  "cells": [
    {
      "cell_type": "markdown",
      "metadata": {
        "id": "view-in-github",
        "colab_type": "text"
      },
      "source": [
        "<a href=\"https://colab.research.google.com/github/khang666/TCC.TH/blob/main/TH4.TCC.ipynb\" target=\"_parent\"><img src=\"https://colab.research.google.com/assets/colab-badge.svg\" alt=\"Open In Colab\"/></a>"
      ]
    },
    {
      "cell_type": "markdown",
      "source": [
        "TH1"
      ],
      "metadata": {
        "id": "bMQVjwakv6lH"
      }
    },
    {
      "cell_type": "code",
      "execution_count": 1,
      "metadata": {
        "colab": {
          "base_uri": "https://localhost:8080/"
        },
        "id": "wWg1ULivvmVy",
        "outputId": "8e1a69b4-b1bc-4f2e-995d-21595a4ba4c7"
      },
      "outputs": [
        {
          "output_type": "execute_result",
          "data": {
            "text/plain": [
              "array([1. , 1.1, 1.2, 1.3, 1.4, 1.5, 1.6, 1.7, 1.8, 1.9, 2. ])"
            ]
          },
          "metadata": {},
          "execution_count": 1
        }
      ],
      "source": [
        "\n",
        "import numpy as np\n",
        "mienchia = np.linspace(1, 2, 11)\n",
        "mienchia"
      ]
    },
    {
      "cell_type": "markdown",
      "source": [
        "TH2"
      ],
      "metadata": {
        "id": "5nSVHBPpwEuC"
      }
    },
    {
      "cell_type": "code",
      "source": [
        "import numpy as np\n",
        "import matplotlib.pyplot as plt\n",
        "fs = [1, 2, 4]\n",
        "all_time = np.linspace(0, 2, 200)\n",
        "t = all_time[:100]\n",
        "for f in fs:\n",
        " y = np.sin(2 * np.pi * f * t)\n",
        " plt.plot(t, y, label='{} Hz'.format(f))\n",
        "plt.legend()\n",
        "import os\n",
        "from google.colab import drive\n",
        "drive.mount('/drive')\n",
        "plt.savefig('/drive/My Drive/Colab Notebooks/bai2.pdf')\n",
        "plt.show()"
      ],
      "metadata": {
        "id": "DUvuY3aJwOw-"
      },
      "execution_count": null,
      "outputs": []
    },
    {
      "cell_type": "code",
      "source": [
        "fig, ax= plt.subplots()\n",
        "for f in fs:\n",
        "    y = np.sin(2*np.pi*f*t)\n",
        "    ax.plot(t,y,label='{} Hz'.format(f))"
      ],
      "metadata": {
        "id": "5fw-EaqOwSIX"
      },
      "execution_count": null,
      "outputs": []
    },
    {
      "cell_type": "code",
      "source": [
        "for f in fs:\n",
        "    y = np.sin(2*np.pi*f*t)\n",
        "    plt.plot(t,y,label='{} Hz'.format(f))"
      ],
      "metadata": {
        "id": "vZqCIM8bzRc1"
      },
      "execution_count": null,
      "outputs": []
    },
    {
      "cell_type": "markdown",
      "source": [
        "TH3"
      ],
      "metadata": {
        "id": "4UXXqhO_wRFu"
      }
    }
  ]
}