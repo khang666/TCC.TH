{
  "nbformat": 4,
  "nbformat_minor": 0,
  "metadata": {
    "colab": {
      "name": "Untitled1.ipynb",
      "provenance": [],
      "authorship_tag": "ABX9TyPzBuyYb9990fBNakoAEe/e",
      "include_colab_link": true
    },
    "kernelspec": {
      "name": "python3",
      "display_name": "Python 3"
    },
    "language_info": {
      "name": "python"
    }
  },
  "cells": [
    {
      "cell_type": "markdown",
      "metadata": {
        "id": "view-in-github",
        "colab_type": "text"
      },
      "source": [
        "<a href=\"https://colab.research.google.com/github/khang666/TCC.TH/blob/main/TH3.TCC.ipynb\" target=\"_parent\"><img src=\"https://colab.research.google.com/assets/colab-badge.svg\" alt=\"Open In Colab\"/></a>"
      ]
    },
    {
      "cell_type": "markdown",
      "source": [
        "th1"
      ],
      "metadata": {
        "id": "outzOCXOEKpm"
      }
    },
    {
      "cell_type": "code",
      "execution_count": null,
      "metadata": {
        "id": "_z6O2C4VEFr5"
      },
      "outputs": [],
      "source": [
        "def luythua(x, n):\n",
        "  ketqua = 1\n",
        "  for i in range(n):\n",
        "    ketqua = ketqua*x\n",
        "  return ketqua"
      ]
    },
    {
      "cell_type": "code",
      "source": [
        "luythua(2,1)"
      ],
      "metadata": {
        "colab": {
          "base_uri": "https://localhost:8080/"
        },
        "id": "Iei6a5GxEVNx",
        "outputId": "fdcb6ea3-1383-4bae-d0ad-32b72421fe4a"
      },
      "execution_count": null,
      "outputs": [
        {
          "output_type": "execute_result",
          "data": {
            "text/plain": [
              "2"
            ]
          },
          "metadata": {},
          "execution_count": 4
        }
      ]
    },
    {
      "cell_type": "code",
      "source": [
        "luythua(2,0)"
      ],
      "metadata": {
        "colab": {
          "base_uri": "https://localhost:8080/"
        },
        "id": "vIQEdt4oEoGy",
        "outputId": "8cadabaa-e4d6-4de9-b351-69f3ff2157db"
      },
      "execution_count": null,
      "outputs": [
        {
          "output_type": "execute_result",
          "data": {
            "text/plain": [
              "1"
            ]
          },
          "metadata": {},
          "execution_count": 5
        }
      ]
    },
    {
      "cell_type": "markdown",
      "source": [
        "th2"
      ],
      "metadata": {
        "id": "1z7H49rKEqoN"
      }
    },
    {
      "cell_type": "code",
      "source": [
        "while 1 = 2;"
      ],
      "metadata": {
        "colab": {
          "base_uri": "https://localhost:8080/",
          "height": 130
        },
        "id": "eL4W7fCEEr_2",
        "outputId": "c5958694-16be-4b12-9ef1-b6d022bf6309"
      },
      "execution_count": null,
      "outputs": [
        {
          "output_type": "error",
          "ename": "SyntaxError",
          "evalue": "ignored",
          "traceback": [
            "\u001b[0;36m  File \u001b[0;32m\"<ipython-input-7-5637b3732b92>\"\u001b[0;36m, line \u001b[0;32m1\u001b[0m\n\u001b[0;31m    while 1 = 2;\u001b[0m\n\u001b[0m            ^\u001b[0m\n\u001b[0;31mSyntaxError\u001b[0m\u001b[0;31m:\u001b[0m invalid syntax\n"
          ]
        }
      ]
    },
    {
      "cell_type": "code",
      "source": [
        "10*(1/0)"
      ],
      "metadata": {
        "id": "yn33H2_JHO6r",
        "outputId": "b7e978a5-b71f-4ee9-e4b8-9b7952f4548c",
        "colab": {
          "base_uri": "https://localhost:8080/",
          "height": 165
        }
      },
      "execution_count": 1,
      "outputs": [
        {
          "output_type": "error",
          "ename": "ZeroDivisionError",
          "evalue": "ignored",
          "traceback": [
            "\u001b[0;31m---------------------------------------------------------------------------\u001b[0m",
            "\u001b[0;31mZeroDivisionError\u001b[0m                         Traceback (most recent call last)",
            "\u001b[0;32m<ipython-input-1-fbc7e86ae71a>\u001b[0m in \u001b[0;36m<module>\u001b[0;34m()\u001b[0m\n\u001b[0;32m----> 1\u001b[0;31m \u001b[0;36m10\u001b[0m\u001b[0;34m*\u001b[0m\u001b[0;34m(\u001b[0m\u001b[0;36m1\u001b[0m\u001b[0;34m/\u001b[0m\u001b[0;36m0\u001b[0m\u001b[0;34m)\u001b[0m\u001b[0;34m\u001b[0m\u001b[0;34m\u001b[0m\u001b[0m\n\u001b[0m",
            "\u001b[0;31mZeroDivisionError\u001b[0m: division by zero"
          ]
        }
      ]
    },
    {
      "cell_type": "code",
      "source": [
        "try:\n",
        "  x = int (input('x = '))\n",
        "  n = 10/x\n",
        "except ZeroDivisionError:\n",
        "  print ('loi ')"
      ],
      "metadata": {
        "id": "iZXAZ8xgHgOS",
        "outputId": "cf9f7e42-aba6-4305-9017-c7574f018509",
        "colab": {
          "base_uri": "https://localhost:8080/"
        }
      },
      "execution_count": 2,
      "outputs": [
        {
          "output_type": "stream",
          "name": "stdout",
          "text": [
            "x = 0\n",
            "loi \n"
          ]
        }
      ]
    },
    {
      "cell_type": "code",
      "source": [
        "3*bien_chua_khai_bao/4"
      ],
      "metadata": {
        "id": "H4tbajOxHmKv"
      },
      "execution_count": null,
      "outputs": []
    },
    {
      "cell_type": "markdown",
      "source": [
        "TH3"
      ],
      "metadata": {
        "id": "1FzRrfS3Hqge"
      }
    },
    {
      "cell_type": "code",
      "source": [
        "x = int(input(\"Vui long nhap so:\"))"
      ],
      "metadata": {
        "id": "8z38xLZ0Hsam",
        "outputId": "0ece5d65-4426-4d60-fb26-bbcbc132e150",
        "colab": {
          "base_uri": "https://localhost:8080/",
          "height": 183
        }
      },
      "execution_count": 3,
      "outputs": [
        {
          "name": "stdout",
          "output_type": "stream",
          "text": [
            "Vui long nhap so:x\n"
          ]
        },
        {
          "output_type": "error",
          "ename": "ValueError",
          "evalue": "ignored",
          "traceback": [
            "\u001b[0;31m---------------------------------------------------------------------------\u001b[0m",
            "\u001b[0;31mValueError\u001b[0m                                Traceback (most recent call last)",
            "\u001b[0;32m<ipython-input-3-86ee3f844967>\u001b[0m in \u001b[0;36m<module>\u001b[0;34m()\u001b[0m\n\u001b[0;32m----> 1\u001b[0;31m \u001b[0mx\u001b[0m \u001b[0;34m=\u001b[0m \u001b[0mint\u001b[0m\u001b[0;34m(\u001b[0m\u001b[0minput\u001b[0m\u001b[0;34m(\u001b[0m\u001b[0;34m\"Vui long nhap so:\"\u001b[0m\u001b[0;34m)\u001b[0m\u001b[0;34m)\u001b[0m\u001b[0;34m\u001b[0m\u001b[0;34m\u001b[0m\u001b[0m\n\u001b[0m",
            "\u001b[0;31mValueError\u001b[0m: invalid literal for int() with base 10: 'x'"
          ]
        }
      ]
    },
    {
      "cell_type": "code",
      "source": [
        "while True :\n",
        "  try:\n",
        "    x = int(input(\"Vui long nhap so:\"))\n",
        "    break\n",
        "  except ValueError :\n",
        "    print(\"Vui long nhap so.Khong nhap chu\")"
      ],
      "metadata": {
        "id": "kOTKOleBILCO",
        "outputId": "b09b54f4-7085-4402-e446-81d2a7b85adb",
        "colab": {
          "base_uri": "https://localhost:8080/"
        }
      },
      "execution_count": 4,
      "outputs": [
        {
          "name": "stdout",
          "output_type": "stream",
          "text": [
            "Vui long nhap so:x\n",
            "Vui long nhap so.Khong nhap chu\n",
            "Vui long nhap so:8\n"
          ]
        }
      ]
    },
    {
      "cell_type": "markdown",
      "source": [
        "TH4\n"
      ],
      "metadata": {
        "id": "mXyaLokGIUJh"
      }
    },
    {
      "cell_type": "code",
      "source": [
        "while True:\n",
        "  try:\n",
        "    x = int(input(\"Vui long nhap so:\"))\n",
        "  except:\n",
        "      print(\"So vua  nhap sai\")\n",
        "  else:\n",
        "      print('SO vua nhap la'+ str(x))\n",
        "      break\n",
        "  finally:\n",
        "    print(\"Da hoan thanh chuong trinh\")"
      ],
      "metadata": {
        "id": "yAOUrrTCIT5y",
        "outputId": "3f99a954-7836-401e-ece6-fef23444eba1",
        "colab": {
          "base_uri": "https://localhost:8080/"
        }
      },
      "execution_count": null,
      "outputs": [
        {
          "name": "stdout",
          "output_type": "stream",
          "text": [
            "Vui long nhap so:x\n"
          ]
        }
      ]
    }
  ]
}